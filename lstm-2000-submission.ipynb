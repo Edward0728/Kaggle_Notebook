{
 "cells": [
  {
   "cell_type": "code",
   "execution_count": 1,
   "id": "7e2c3ef6",
   "metadata": {
    "_cell_guid": "b1076dfc-b9ad-4769-8c92-a6c4dae69d19",
    "_uuid": "8f2839f25d086af736a60e9eeb907d3b93b6e0e5",
    "execution": {
     "iopub.execute_input": "2022-07-06T00:36:07.958237Z",
     "iopub.status.busy": "2022-07-06T00:36:07.957711Z",
     "iopub.status.idle": "2022-07-06T00:36:07.990781Z",
     "shell.execute_reply": "2022-07-06T00:36:07.989822Z"
    },
    "papermill": {
     "duration": 0.048665,
     "end_time": "2022-07-06T00:36:07.994069",
     "exception": false,
     "start_time": "2022-07-06T00:36:07.945404",
     "status": "completed"
    },
    "tags": []
   },
   "outputs": [
    {
     "name": "stdout",
     "output_type": "stream",
     "text": [
      "/kaggle/input/jpx-tokyo-stock-exchange-prediction/stock_list.csv\n",
      "/kaggle/input/jpx-tokyo-stock-exchange-prediction/example_test_files/sample_submission.csv\n",
      "/kaggle/input/jpx-tokyo-stock-exchange-prediction/example_test_files/options.csv\n",
      "/kaggle/input/jpx-tokyo-stock-exchange-prediction/example_test_files/financials.csv\n",
      "/kaggle/input/jpx-tokyo-stock-exchange-prediction/example_test_files/secondary_stock_prices.csv\n",
      "/kaggle/input/jpx-tokyo-stock-exchange-prediction/example_test_files/trades.csv\n",
      "/kaggle/input/jpx-tokyo-stock-exchange-prediction/example_test_files/stock_prices.csv\n",
      "/kaggle/input/jpx-tokyo-stock-exchange-prediction/jpx_tokyo_market_prediction/competition.cpython-37m-x86_64-linux-gnu.so\n",
      "/kaggle/input/jpx-tokyo-stock-exchange-prediction/jpx_tokyo_market_prediction/__init__.py\n",
      "/kaggle/input/jpx-tokyo-stock-exchange-prediction/data_specifications/stock_fin_spec.csv\n",
      "/kaggle/input/jpx-tokyo-stock-exchange-prediction/data_specifications/trades_spec.csv\n",
      "/kaggle/input/jpx-tokyo-stock-exchange-prediction/data_specifications/stock_price_spec.csv\n",
      "/kaggle/input/jpx-tokyo-stock-exchange-prediction/data_specifications/options_spec.csv\n",
      "/kaggle/input/jpx-tokyo-stock-exchange-prediction/data_specifications/stock_list_spec.csv\n",
      "/kaggle/input/jpx-tokyo-stock-exchange-prediction/train_files/options.csv\n",
      "/kaggle/input/jpx-tokyo-stock-exchange-prediction/train_files/financials.csv\n",
      "/kaggle/input/jpx-tokyo-stock-exchange-prediction/train_files/secondary_stock_prices.csv\n",
      "/kaggle/input/jpx-tokyo-stock-exchange-prediction/train_files/trades.csv\n",
      "/kaggle/input/jpx-tokyo-stock-exchange-prediction/train_files/stock_prices.csv\n",
      "/kaggle/input/jpx-tokyo-stock-exchange-prediction/supplemental_files/options.csv\n",
      "/kaggle/input/jpx-tokyo-stock-exchange-prediction/supplemental_files/financials.csv\n",
      "/kaggle/input/jpx-tokyo-stock-exchange-prediction/supplemental_files/secondary_stock_prices.csv\n",
      "/kaggle/input/jpx-tokyo-stock-exchange-prediction/supplemental_files/trades.csv\n",
      "/kaggle/input/jpx-tokyo-stock-exchange-prediction/supplemental_files/stock_prices.csv\n"
     ]
    }
   ],
   "source": [
    "# This Python 3 environment comes with many helpful analytics libraries installed\n",
    "# It is defined by the kaggle/python Docker image: https://github.com/kaggle/docker-python\n",
    "# For example, here's several helpful packages to load\n",
    "\n",
    "import numpy as np # linear algebra\n",
    "import pandas as pd # data processing, CSV file I/O (e.g. pd.read_csv)\n",
    "\n",
    "# Input data files are available in the read-only \"../input/\" directory\n",
    "# For example, running this (by clicking run or pressing Shift+Enter) will list all files under the input directory\n",
    "\n",
    "import os\n",
    "for dirname, _, filenames in os.walk('/kaggle/input'):\n",
    "    for filename in filenames:\n",
    "        print(os.path.join(dirname, filename))\n",
    "\n",
    "# You can write up to 20GB to the current directory (/kaggle/working/) that gets preserved as output when you create a version using \"Save & Run All\" \n",
    "# You can also write temporary files to /kaggle/temp/, but they won't be saved outside of the current session"
   ]
  },
  {
   "cell_type": "code",
   "execution_count": 2,
   "id": "7b1243fe",
   "metadata": {
    "execution": {
     "iopub.execute_input": "2022-07-06T00:36:08.014270Z",
     "iopub.status.busy": "2022-07-06T00:36:08.013854Z",
     "iopub.status.idle": "2022-07-06T00:36:10.543826Z",
     "shell.execute_reply": "2022-07-06T00:36:10.542416Z"
    },
    "papermill": {
     "duration": 2.543425,
     "end_time": "2022-07-06T00:36:10.546843",
     "exception": false,
     "start_time": "2022-07-06T00:36:08.003418",
     "status": "completed"
    },
    "tags": []
   },
   "outputs": [],
   "source": [
    "import os\n",
    "import gc\n",
    "import copy\n",
    "import warnings\n",
    "import pandas as pd\n",
    "import numpy as np\n",
    "import matplotlib.pyplot as plt\n",
    "import seaborn as sns\n",
    "import plotly.graph_objects as go\n",
    "import plotly.express as px\n",
    "from plotly.subplots import make_subplots\n",
    "from IPython.display import display_html\n",
    "#configuration\n",
    "warnings.simplefilter('ignore')\n",
    "pd.set_option('max_column', None)\n",
    "sns.set_style('darkgrid')\n",
    "colors = sns.color_palette('Set2')"
   ]
  },
  {
   "cell_type": "code",
   "execution_count": 3,
   "id": "5ff5a852",
   "metadata": {
    "execution": {
     "iopub.execute_input": "2022-07-06T00:36:10.567008Z",
     "iopub.status.busy": "2022-07-06T00:36:10.566570Z",
     "iopub.status.idle": "2022-07-06T00:36:10.579277Z",
     "shell.execute_reply": "2022-07-06T00:36:10.577865Z"
    },
    "papermill": {
     "duration": 0.02606,
     "end_time": "2022-07-06T00:36:10.582114",
     "exception": false,
     "start_time": "2022-07-06T00:36:10.556054",
     "status": "completed"
    },
    "tags": []
   },
   "outputs": [],
   "source": [
    "def prep_prices(price):\n",
    "    \n",
    "    from decimal import ROUND_HALF_UP, Decimal\n",
    "    \n",
    "    pcols = [\"Open\",\"High\",\"Low\",\"Close\"]\n",
    "\n",
    "    price[\"ExpectedDividend\"].fillna(0,inplace=True)\n",
    "    \n",
    "    def qround(x):\n",
    "        return float(Decimal(str(x)).quantize(Decimal('0.1'), rounding=ROUND_HALF_UP))\n",
    "    \n",
    "    def adjust_prices(df):\n",
    "        df = df.sort_values(\"Date\", ascending=False)\n",
    "        df.loc[:, \"CumAdjust\"] = df[\"AdjustmentFactor\"].cumprod()\n",
    "\n",
    "        # generate adjusted prices\n",
    "        for p in pcols:     \n",
    "            df.loc[:, p] = (df[\"CumAdjust\"] * df[p]).apply(qround)\n",
    "        df.loc[:, \"Volume\"] = df[\"Volume\"] / df[\"CumAdjust\"]\n",
    "        df.ffill(inplace=True)\n",
    "        df.bfill(inplace=True)\n",
    "        \n",
    "        # generate and fill Targets\n",
    "        #df.loc[:, \"Target\"] = df.Close.pct_change().shift(-2).fillna(df.Target).fillna(0)\n",
    "        df.Target.fillna(0,inplace=True)\n",
    "\n",
    "        return df\n",
    "\n",
    "    # generate Adjusted\n",
    "    price = price.sort_values([\"SecuritiesCode\", \"Date\"])\n",
    "    price = price.groupby(\"SecuritiesCode\").apply(adjust_prices).reset_index(drop=True)\n",
    "    price = price.sort_values(\"RowId\")\n",
    "    return price"
   ]
  },
  {
   "cell_type": "code",
   "execution_count": 4,
   "id": "0e276cd0",
   "metadata": {
    "execution": {
     "iopub.execute_input": "2022-07-06T00:36:10.602863Z",
     "iopub.status.busy": "2022-07-06T00:36:10.602082Z",
     "iopub.status.idle": "2022-07-06T00:37:33.084683Z",
     "shell.execute_reply": "2022-07-06T00:37:33.083489Z"
    },
    "papermill": {
     "duration": 82.505168,
     "end_time": "2022-07-06T00:37:33.096369",
     "exception": false,
     "start_time": "2022-07-06T00:36:10.591201",
     "status": "completed"
    },
    "tags": []
   },
   "outputs": [
    {
     "name": "stdout",
     "output_type": "stream",
     "text": [
      "CPU times: user 1min 18s, sys: 1.68 s, total: 1min 20s\n",
      "Wall time: 1min 22s\n"
     ]
    }
   ],
   "source": [
    "%%time\n",
    "df_train = pd.read_csv(os.path.join(\"../input/jpx-tokyo-stock-exchange-prediction/train_files/stock_prices.csv\"))\n",
    "df_train = prep_prices(df_train)\n",
    "stock_list = pd.read_csv(os.path.join(\"../input/jpx-tokyo-stock-exchange-prediction/stock_list.csv\")) # not used\n",
    "df_test = pd.read_csv(os.path.join(\"../input/jpx-tokyo-stock-exchange-prediction/supplemental_files/stock_prices.csv\"))\n",
    "df_test = prep_prices(df_test)\n"
   ]
  },
  {
   "cell_type": "code",
   "execution_count": 5,
   "id": "5aa746b0",
   "metadata": {
    "execution": {
     "iopub.execute_input": "2022-07-06T00:37:33.116943Z",
     "iopub.status.busy": "2022-07-06T00:37:33.116223Z",
     "iopub.status.idle": "2022-07-06T00:37:45.812767Z",
     "shell.execute_reply": "2022-07-06T00:37:45.811450Z"
    },
    "papermill": {
     "duration": 12.710227,
     "end_time": "2022-07-06T00:37:45.815706",
     "exception": false,
     "start_time": "2022-07-06T00:37:33.105479",
     "status": "completed"
    },
    "tags": []
   },
   "outputs": [
    {
     "name": "stdout",
     "output_type": "stream",
     "text": [
      "              RowId        Date  SecuritiesCode    Open    High     Low  \\\n",
      "1201  20170104_1301  2017-01-04            1301  2734.0  2755.0  2730.0   \n",
      "1200  20170105_1301  2017-01-05            1301  2743.0  2747.0  2735.0   \n",
      "1199  20170106_1301  2017-01-06            1301  2734.0  2744.0  2720.0   \n",
      "1198  20170110_1301  2017-01-10            1301  2745.0  2754.0  2735.0   \n",
      "1197  20170111_1301  2017-01-11            1301  2748.0  2752.0  2737.0   \n",
      "...             ...         ...             ...     ...     ...     ...   \n",
      "4     20220620_1301  2022-06-20            1301  3400.0  3410.0  3320.0   \n",
      "3     20220621_1301  2022-06-21            1301  3325.0  3385.0  3315.0   \n",
      "2     20220622_1301  2022-06-22            1301  3365.0  3435.0  3365.0   \n",
      "1     20220623_1301  2022-06-23            1301  3460.0  3470.0  3440.0   \n",
      "0     20220624_1301  2022-06-24            1301  3470.0  3470.0  3385.0   \n",
      "\n",
      "       Close   Volume  AdjustmentFactor  ExpectedDividend  SupervisionFlag  \\\n",
      "1201  2742.0  31400.0               1.0               0.0            False   \n",
      "1200  2738.0  17900.0               1.0               0.0            False   \n",
      "1199  2740.0  19900.0               1.0               0.0            False   \n",
      "1198  2748.0  24200.0               1.0               0.0            False   \n",
      "1197  2745.0   9300.0               1.0               0.0            False   \n",
      "...      ...      ...               ...               ...              ...   \n",
      "4     3325.0  13400.0               1.0               0.0            False   \n",
      "3     3365.0  14100.0               1.0               0.0            False   \n",
      "2     3435.0  17200.0               1.0               0.0            False   \n",
      "1     3450.0  15500.0               1.0               0.0            False   \n",
      "0     3395.0  10900.0               1.0               0.0            False   \n",
      "\n",
      "        Target  CumAdjust  \n",
      "1201  0.000730        1.0  \n",
      "1200  0.002920        1.0  \n",
      "1199 -0.001092        1.0  \n",
      "1198 -0.005100        1.0  \n",
      "1197 -0.003295        1.0  \n",
      "...        ...        ...  \n",
      "4     0.020802        1.0  \n",
      "3     0.004367        1.0  \n",
      "2    -0.015942        1.0  \n",
      "1     0.004418        1.0  \n",
      "0     0.001466        1.0  \n",
      "\n",
      "[1337 rows x 13 columns]\n"
     ]
    }
   ],
   "source": [
    "# make a list of the dataframes of each stock, last dataframe is the train data for model    \n",
    "list_each_price = []\n",
    "list_each_stock = []    \n",
    "for i in df_test['SecuritiesCode'].unique():     \n",
    "    TRAIN = df_train[df_train.SecuritiesCode==i]\n",
    "    TEST = df_test[df_test.SecuritiesCode==i]\n",
    "    df_stock = pd.concat([TRAIN,TEST])\n",
    "    df_price = df_stock['Close'] # this include the whole time data from 20170104 to 20220624\n",
    "    df_price.fillna(0,inplace = True)\n",
    "    list_each_stock.append(df_stock)\n",
    "    list_each_price.append(df_price)\n",
    "print ((list_each_stock[0]))"
   ]
  },
  {
   "cell_type": "code",
   "execution_count": 6,
   "id": "23d7a895",
   "metadata": {
    "execution": {
     "iopub.execute_input": "2022-07-06T00:37:45.841646Z",
     "iopub.status.busy": "2022-07-06T00:37:45.841254Z",
     "iopub.status.idle": "2022-07-06T00:37:46.427449Z",
     "shell.execute_reply": "2022-07-06T00:37:46.425769Z"
    },
    "papermill": {
     "duration": 0.60396,
     "end_time": "2022-07-06T00:37:46.431860",
     "exception": false,
     "start_time": "2022-07-06T00:37:45.827900",
     "status": "completed"
    },
    "tags": []
   },
   "outputs": [
    {
     "name": "stdout",
     "output_type": "stream",
     "text": [
      "[[0.34201077]\n",
      " [0.36355476]\n",
      " [0.36894075]\n",
      " ...\n",
      " [0.27827648]\n",
      " [0.27827648]\n",
      " [0.28904847]]\n",
      "1337\n"
     ]
    }
   ],
   "source": [
    "# standize all the stock price for lstm model\n",
    "from sklearn.preprocessing import MinMaxScaler\n",
    "scaler=MinMaxScaler(feature_range=(0,1))\n",
    "list_each_scaled = []\n",
    "for i in list_each_price:    \n",
    "    i = scaler.fit_transform(np.array(i).reshape(-1,1))\n",
    "    list_each_scaled.append(i)\n",
    "\n",
    "print(list_each_scaled[-1])\n",
    "print(len(list_each_scaled[0]))"
   ]
  },
  {
   "cell_type": "code",
   "execution_count": 7,
   "id": "623fe06a",
   "metadata": {
    "execution": {
     "iopub.execute_input": "2022-07-06T00:37:46.454534Z",
     "iopub.status.busy": "2022-07-06T00:37:46.454117Z",
     "iopub.status.idle": "2022-07-06T00:37:46.461129Z",
     "shell.execute_reply": "2022-07-06T00:37:46.460099Z"
    },
    "papermill": {
     "duration": 0.021025,
     "end_time": "2022-07-06T00:37:46.463640",
     "exception": false,
     "start_time": "2022-07-06T00:37:46.442615",
     "status": "completed"
    },
    "tags": []
   },
   "outputs": [],
   "source": [
    "# function to create the training X, y data for lstm model\n",
    "def create_dataset(dataset, time_step):\n",
    "    dataX, dataY = [], []\n",
    "    for i in range(len(dataset)-time_step):\n",
    "        a = dataset[i:(i+time_step), 0] # eg. first x in the dataX = [0:100, 0], second [1:101, 0]... model need this\n",
    "        dataX.append(a)\n",
    "        dataY.append(dataset[i + time_step, 0]) # eg. first y in dataY = [100,0], second[101,0]... \n",
    "    return np.array(dataX), np.array(dataY)\n"
   ]
  },
  {
   "cell_type": "code",
   "execution_count": 8,
   "id": "949daac0",
   "metadata": {
    "execution": {
     "iopub.execute_input": "2022-07-06T00:37:46.484829Z",
     "iopub.status.busy": "2022-07-06T00:37:46.484418Z",
     "iopub.status.idle": "2022-07-06T00:37:50.685446Z",
     "shell.execute_reply": "2022-07-06T00:37:50.684049Z"
    },
    "papermill": {
     "duration": 4.214548,
     "end_time": "2022-07-06T00:37:50.688088",
     "exception": false,
     "start_time": "2022-07-06T00:37:46.473540",
     "status": "completed"
    },
    "tags": []
   },
   "outputs": [
    {
     "name": "stdout",
     "output_type": "stream",
     "text": [
      "(1336, 1, 1) (1336,)\n"
     ]
    }
   ],
   "source": [
    "time_step = 1\n",
    "X_pred = []\n",
    "y_pred = []\n",
    "for i in list_each_scaled:\n",
    "    x_lstm_pred, y_lstm_pred = create_dataset(i, time_step)\n",
    "    x_lstm_pred = x_lstm_pred.reshape(x_lstm_pred.shape[0],x_lstm_pred.shape[1] , 1)\n",
    "    X_pred.append(x_lstm_pred)\n",
    "    y_pred.append(y_lstm_pred)\n",
    "print(X_pred[1999].shape,y_pred[1999].shape)\n",
    "#print(X_pred[1999],y_pred[1999])"
   ]
  },
  {
   "cell_type": "code",
   "execution_count": 9,
   "id": "c6c842dd",
   "metadata": {
    "execution": {
     "iopub.execute_input": "2022-07-06T00:37:50.709286Z",
     "iopub.status.busy": "2022-07-06T00:37:50.708869Z",
     "iopub.status.idle": "2022-07-06T00:38:00.890625Z",
     "shell.execute_reply": "2022-07-06T00:38:00.889040Z"
    },
    "papermill": {
     "duration": 10.195298,
     "end_time": "2022-07-06T00:38:00.893358",
     "exception": false,
     "start_time": "2022-07-06T00:37:50.698060",
     "status": "completed"
    },
    "tags": []
   },
   "outputs": [],
   "source": [
    "from tensorflow.keras.models import Sequential\n",
    "from tensorflow.keras.layers import Dense\n",
    "from tensorflow.keras.layers import LSTM\n",
    "from keras.layers import Dropout\n",
    "from tensorflow import keras"
   ]
  },
  {
   "cell_type": "code",
   "execution_count": 10,
   "id": "58398b05",
   "metadata": {
    "execution": {
     "iopub.execute_input": "2022-07-06T00:38:00.914232Z",
     "iopub.status.busy": "2022-07-06T00:38:00.913406Z",
     "iopub.status.idle": "2022-07-06T00:38:16.213236Z",
     "shell.execute_reply": "2022-07-06T00:38:16.212310Z"
    },
    "papermill": {
     "duration": 15.3129,
     "end_time": "2022-07-06T00:38:16.215544",
     "exception": false,
     "start_time": "2022-07-06T00:38:00.902644",
     "status": "completed"
    },
    "tags": []
   },
   "outputs": [
    {
     "name": "stderr",
     "output_type": "stream",
     "text": [
      "2022-07-06 00:38:00.954818: I tensorflow/core/common_runtime/process_util.cc:146] Creating new thread pool with default inter op setting: 2. Tune using inter_op_parallelism_threads for best performance.\n",
      "2022-07-06 00:38:01.844545: I tensorflow/compiler/mlir/mlir_graph_optimization_pass.cc:185] None of the MLIR Optimization Passes are enabled (registered 2)\n"
     ]
    },
    {
     "name": "stdout",
     "output_type": "stream",
     "text": [
      "Epoch 1/30\n",
      "42/42 [==============================] - 7s 6ms/step - loss: 0.1736\n",
      "Epoch 2/30\n",
      "42/42 [==============================] - 0s 6ms/step - loss: 0.0244\n",
      "Epoch 3/30\n",
      "42/42 [==============================] - 0s 7ms/step - loss: 0.0128\n",
      "Epoch 4/30\n",
      "42/42 [==============================] - 0s 6ms/step - loss: 0.0039\n",
      "Epoch 5/30\n",
      "42/42 [==============================] - 0s 7ms/step - loss: 0.0013\n",
      "Epoch 6/30\n",
      "42/42 [==============================] - 0s 6ms/step - loss: 0.0011\n",
      "Epoch 7/30\n",
      "42/42 [==============================] - 0s 6ms/step - loss: 9.4312e-04\n",
      "Epoch 8/30\n",
      "42/42 [==============================] - 0s 6ms/step - loss: 8.3301e-04\n",
      "Epoch 9/30\n",
      "42/42 [==============================] - 0s 6ms/step - loss: 7.1386e-04\n",
      "Epoch 10/30\n",
      "42/42 [==============================] - 0s 6ms/step - loss: 6.0696e-04\n",
      "Epoch 11/30\n",
      "42/42 [==============================] - 0s 6ms/step - loss: 5.2233e-04\n",
      "Epoch 12/30\n",
      "42/42 [==============================] - 0s 6ms/step - loss: 4.4671e-04\n",
      "Epoch 13/30\n",
      "42/42 [==============================] - 0s 6ms/step - loss: 3.9177e-04\n",
      "Epoch 14/30\n",
      "42/42 [==============================] - 0s 6ms/step - loss: 3.4892e-04\n",
      "Epoch 15/30\n",
      "42/42 [==============================] - 0s 6ms/step - loss: 3.2070e-04\n",
      "Epoch 16/30\n",
      "42/42 [==============================] - 0s 6ms/step - loss: 3.0613e-04\n",
      "Epoch 17/30\n",
      "42/42 [==============================] - 0s 6ms/step - loss: 3.0035e-04\n",
      "Epoch 18/30\n",
      "42/42 [==============================] - 0s 6ms/step - loss: 2.9384e-04\n",
      "Epoch 19/30\n",
      "42/42 [==============================] - 0s 6ms/step - loss: 2.8311e-04\n",
      "Epoch 20/30\n",
      "42/42 [==============================] - 0s 6ms/step - loss: 2.9075e-04\n",
      "Epoch 21/30\n",
      "42/42 [==============================] - 0s 6ms/step - loss: 2.8641e-04\n",
      "Epoch 22/30\n",
      "42/42 [==============================] - 0s 6ms/step - loss: 2.8452e-04\n",
      "Epoch 23/30\n",
      "42/42 [==============================] - 0s 6ms/step - loss: 2.8252e-04\n",
      "Epoch 24/30\n",
      "42/42 [==============================] - 0s 6ms/step - loss: 2.8684e-04\n",
      "Epoch 25/30\n",
      "42/42 [==============================] - 0s 7ms/step - loss: 2.8257e-04\n",
      "Epoch 26/30\n",
      "42/42 [==============================] - 0s 6ms/step - loss: 2.9014e-04\n",
      "Epoch 27/30\n",
      "42/42 [==============================] - 0s 6ms/step - loss: 2.9090e-04\n",
      "Epoch 28/30\n",
      "42/42 [==============================] - 0s 6ms/step - loss: 3.0647e-04\n",
      "Epoch 29/30\n",
      "42/42 [==============================] - 0s 6ms/step - loss: 2.8282e-04\n",
      "Epoch 30/30\n",
      "42/42 [==============================] - 0s 6ms/step - loss: 2.8736e-04\n"
     ]
    },
    {
     "data": {
      "text/plain": [
       "<keras.callbacks.History at 0x7fbc9cb2c450>"
      ]
     },
     "execution_count": 10,
     "metadata": {},
     "output_type": "execute_result"
    }
   ],
   "source": [
    "# build the model \n",
    "model=Sequential()\n",
    "model.add(LSTM(50,return_sequences=True,input_shape=(50,1)))\n",
    "model.add(LSTM(50,return_sequences=True))\n",
    "model.add(LSTM(50))\n",
    "model.add(Dense(1))\n",
    "opt = keras.optimizers.Adam(learning_rate=0.001)\n",
    "model.compile(loss='mean_squared_error',optimizer=opt)\n",
    "# feed the data to the model\n",
    "#model.fit(X_train,y_train,epochs=50,batch_size=32)\n",
    "#model.fit(X_Test[1999],y_Test[1999],epochs=5,batch_size=32)\n",
    "model.fit(X_pred[10],y_pred[10],epochs=30,batch_size=32)"
   ]
  },
  {
   "cell_type": "code",
   "execution_count": 11,
   "id": "24ca7625",
   "metadata": {
    "execution": {
     "iopub.execute_input": "2022-07-06T00:38:16.264881Z",
     "iopub.status.busy": "2022-07-06T00:38:16.264165Z",
     "iopub.status.idle": "2022-07-06T00:42:44.733582Z",
     "shell.execute_reply": "2022-07-06T00:42:44.732494Z"
    },
    "papermill": {
     "duration": 268.522569,
     "end_time": "2022-07-06T00:42:44.762201",
     "exception": false,
     "start_time": "2022-07-06T00:38:16.239632",
     "status": "completed"
    },
    "tags": []
   },
   "outputs": [
    {
     "data": {
      "image/png": "[encoded data removed]",
      "text/plain": [
       "<Figure size 1920x1280 with 1 Axes>"
      ]
     },
     "metadata": {},
     "output_type": "display_data"
    },
    {
     "name": "stdout",
     "output_type": "stream",
     "text": [
      "[[2740.2097]\n",
      " [2736.2393]\n",
      " [2738.2246]\n",
      " ...\n",
      " [3361.9426]\n",
      " [3431.7349]\n",
      " [3446.6775]]\n",
      "CPU times: user 5min 30s, sys: 44.5 s, total: 6min 14s\n",
      "Wall time: 4min 28s\n"
     ]
    }
   ],
   "source": [
    "%%time\n",
    "# import matplotlib.pyplot as plt\n",
    "from matplotlib.pyplot import figure\n",
    "\n",
    "list_pred = [] # list of train prediction for every stock\n",
    "for i in range(2000):\n",
    "    pred_one=model.predict(X_pred[i]) \n",
    "    \n",
    "    scaler=MinMaxScaler(feature_range=(0,1)) # construct a scaler of range value 0 to 1\n",
    "    scaler.fit_transform(np.array(list_each_price[i]).reshape(-1,1)) # train the scaler with each stock value\n",
    "    pred_unscaled=scaler.inverse_transform(pred_one) # use trained scaler to do the value reverse back to origin value\n",
    "    list_pred.append(pred_unscaled) # append prediction value of every stock to a list\n",
    "\n",
    "    # a sample plot of stock # 1999 (start from 0)\n",
    "    if i ==0 :  \n",
    "        x_test = range(1,len(list_each_scaled[i])-1)\n",
    "        figure(figsize=(12, 8), dpi=160)\n",
    "        plt.title(str(list_each_stock[i][0:1]['SecuritiesCode']), fontdict=None, loc='center', pad=None)\n",
    "        plt.plot(range(len(list_each_price[i])),list_each_price[i],'b')\n",
    "        #plt.plot(x_train,train_predict,'orange')\n",
    "        plt.plot(x_test,pred_unscaled[1:],'g')\n",
    "        plt.ylabel('Close_Price')\n",
    "        plt.show()\n",
    "        print(pred_unscaled)\n",
    "              \n",
    "list_pred_copy=copy.deepcopy(list_pred)  "
   ]
  },
  {
   "cell_type": "code",
   "execution_count": 12,
   "id": "898e2f96",
   "metadata": {
    "execution": {
     "iopub.execute_input": "2022-07-06T00:42:44.817707Z",
     "iopub.status.busy": "2022-07-06T00:42:44.817016Z",
     "iopub.status.idle": "2022-07-06T00:42:44.827026Z",
     "shell.execute_reply": "2022-07-06T00:42:44.824301Z"
    },
    "papermill": {
     "duration": 0.041515,
     "end_time": "2022-07-06T00:42:44.830159",
     "exception": false,
     "start_time": "2022-07-06T00:42:44.788644",
     "status": "completed"
    },
    "tags": []
   },
   "outputs": [
    {
     "name": "stdout",
     "output_type": "stream",
     "text": [
      "[[2740.2097]\n",
      " [2736.2393]\n",
      " [2738.2246]\n",
      " ...\n",
      " [3361.9426]\n",
      " [3431.7349]\n",
      " [3446.6775]]\n",
      "1336\n"
     ]
    }
   ],
   "source": [
    "print(list_pred_copy[0])\n",
    "print(len(list_pred_copy[0]))"
   ]
  },
  {
   "cell_type": "code",
   "execution_count": 13,
   "id": "4fc9a6f8",
   "metadata": {
    "execution": {
     "iopub.execute_input": "2022-07-06T00:42:44.885033Z",
     "iopub.status.busy": "2022-07-06T00:42:44.884594Z",
     "iopub.status.idle": "2022-07-06T00:42:44.891588Z",
     "shell.execute_reply": "2022-07-06T00:42:44.890288Z"
    },
    "papermill": {
     "duration": 0.036925,
     "end_time": "2022-07-06T00:42:44.894108",
     "exception": false,
     "start_time": "2022-07-06T00:42:44.857183",
     "status": "completed"
    },
    "tags": []
   },
   "outputs": [
    {
     "name": "stdout",
     "output_type": "stream",
     "text": [
      "[[2740.2097]\n",
      " [2736.2393]\n",
      " [2738.2246]\n",
      " ...\n",
      " [3361.9426]\n",
      " [3431.7349]\n",
      " [3446.6775]]\n",
      "1336\n"
     ]
    }
   ],
   "source": [
    "print(list_pred[0])\n",
    "print(len(list_pred[0]))"
   ]
  },
  {
   "cell_type": "code",
   "execution_count": 14,
   "id": "d737e306",
   "metadata": {
    "execution": {
     "iopub.execute_input": "2022-07-06T00:42:44.948360Z",
     "iopub.status.busy": "2022-07-06T00:42:44.947638Z",
     "iopub.status.idle": "2022-07-06T00:42:44.952806Z",
     "shell.execute_reply": "2022-07-06T00:42:44.951801Z"
    },
    "papermill": {
     "duration": 0.034793,
     "end_time": "2022-07-06T00:42:44.955226",
     "exception": false,
     "start_time": "2022-07-06T00:42:44.920433",
     "status": "completed"
    },
    "tags": []
   },
   "outputs": [],
   "source": [
    "#list_pred_copy"
   ]
  },
  {
   "cell_type": "code",
   "execution_count": 15,
   "id": "de78f41b",
   "metadata": {
    "execution": {
     "iopub.execute_input": "2022-07-06T00:42:45.011012Z",
     "iopub.status.busy": "2022-07-06T00:42:45.009981Z",
     "iopub.status.idle": "2022-07-06T00:42:45.643408Z",
     "shell.execute_reply": "2022-07-06T00:42:45.641350Z"
    },
    "papermill": {
     "duration": 0.663655,
     "end_time": "2022-07-06T00:42:45.645900",
     "exception": false,
     "start_time": "2022-07-06T00:42:44.982245",
     "status": "completed"
    },
    "tags": []
   },
   "outputs": [
    {
     "name": "stdout",
     "output_type": "stream",
     "text": [
      "              RowId        Date  SecuritiesCode    Open    High     Low  \\\n",
      "1201  20170104_1301  2017-01-04            1301  2734.0  2755.0  2730.0   \n",
      "1200  20170105_1301  2017-01-05            1301  2743.0  2747.0  2735.0   \n",
      "1199  20170106_1301  2017-01-06            1301  2734.0  2744.0  2720.0   \n",
      "1198  20170110_1301  2017-01-10            1301  2745.0  2754.0  2735.0   \n",
      "1197  20170111_1301  2017-01-11            1301  2748.0  2752.0  2737.0   \n",
      "...             ...         ...             ...     ...     ...     ...   \n",
      "4     20220620_1301  2022-06-20            1301  3400.0  3410.0  3320.0   \n",
      "3     20220621_1301  2022-06-21            1301  3325.0  3385.0  3315.0   \n",
      "2     20220622_1301  2022-06-22            1301  3365.0  3435.0  3365.0   \n",
      "1     20220623_1301  2022-06-23            1301  3460.0  3470.0  3440.0   \n",
      "0     20220624_1301  2022-06-24            1301  3470.0  3470.0  3385.0   \n",
      "\n",
      "       Close   Volume  AdjustmentFactor  ExpectedDividend  SupervisionFlag  \\\n",
      "1201  2742.0  31400.0               1.0               0.0            False   \n",
      "1200  2738.0  17900.0               1.0               0.0            False   \n",
      "1199  2740.0  19900.0               1.0               0.0            False   \n",
      "1198  2748.0  24200.0               1.0               0.0            False   \n",
      "1197  2745.0   9300.0               1.0               0.0            False   \n",
      "...      ...      ...               ...               ...              ...   \n",
      "4     3325.0  13400.0               1.0               0.0            False   \n",
      "3     3365.0  14100.0               1.0               0.0            False   \n",
      "2     3435.0  17200.0               1.0               0.0            False   \n",
      "1     3450.0  15500.0               1.0               0.0            False   \n",
      "0     3395.0  10900.0               1.0               0.0            False   \n",
      "\n",
      "        Target  CumAdjust   Prediction  \n",
      "1201  0.000730        1.0          NaN  \n",
      "1200  0.002920        1.0  2740.209717  \n",
      "1199 -0.001092        1.0  2736.239258  \n",
      "1198 -0.005100        1.0  2738.224609  \n",
      "1197 -0.003295        1.0  2746.166260  \n",
      "...        ...        ...          ...  \n",
      "4     0.020802        1.0  3371.918701  \n",
      "3     0.004367        1.0  3322.022705  \n",
      "2    -0.015942        1.0  3361.942627  \n",
      "1     0.004418        1.0  3431.734863  \n",
      "0     0.001466        1.0  3446.677490  \n",
      "\n",
      "[1337 rows x 14 columns]\n"
     ]
    }
   ],
   "source": [
    "list_pred=list_pred_copy\n",
    "counter = 0\n",
    "for i in list_each_stock:\n",
    "    #print(len(i))\n",
    "    list_pred[counter] = np.insert(list_pred[counter],0,None,axis = 0)\n",
    "    #X = np.insert(X, 0, 6., axis=0)\n",
    "    #print(list_pred[counter])\n",
    "    #print(len(list_train_Predicted_df[counter]))\n",
    "    #i['Target'] = None\n",
    "    i['Prediction']=list_pred[counter]\n",
    "    counter = counter + 1\n",
    "print(list_each_stock[0])"
   ]
  },
  {
   "cell_type": "code",
   "execution_count": 16,
   "id": "deca44f7",
   "metadata": {
    "execution": {
     "iopub.execute_input": "2022-07-06T00:42:45.700554Z",
     "iopub.status.busy": "2022-07-06T00:42:45.699866Z",
     "iopub.status.idle": "2022-07-06T00:44:24.904940Z",
     "shell.execute_reply": "2022-07-06T00:44:24.903191Z"
    },
    "papermill": {
     "duration": 99.267228,
     "end_time": "2022-07-06T00:44:24.938978",
     "exception": false,
     "start_time": "2022-07-06T00:42:45.671750",
     "status": "completed"
    },
    "tags": []
   },
   "outputs": [
    {
     "name": "stdout",
     "output_type": "stream",
     "text": [
      "CPU times: user 1min 39s, sys: 0 ns, total: 1min 39s\n",
      "Wall time: 1min 39s\n"
     ]
    }
   ],
   "source": [
    "%%time\n",
    "# calculate the r based on predicted column, then make a rt list of all the r values of every stock\n",
    "for i in range(len(list_each_stock)):\n",
    "    trgt = []\n",
    "    for j in range (len(list_each_stock[i])-2): # based on formula, no r values on j day for last two days\n",
    "        trgt.append((list_each_stock[i]['Prediction'].iloc[j+2]-list_each_stock[i]['Prediction'].iloc[j+1])/list_each_stock[i]['Prediction'].iloc[j+1])\n",
    "    trgt.append(None)\n",
    "    trgt.append(None)\n",
    "    list_each_stock[i]['Target'] = trgt"
   ]
  },
  {
   "cell_type": "code",
   "execution_count": 17,
   "id": "42e66b5a",
   "metadata": {
    "execution": {
     "iopub.execute_input": "2022-07-06T00:44:24.995107Z",
     "iopub.status.busy": "2022-07-06T00:44:24.993710Z",
     "iopub.status.idle": "2022-07-06T00:44:27.696944Z",
     "shell.execute_reply": "2022-07-06T00:44:27.695667Z"
    },
    "papermill": {
     "duration": 2.734501,
     "end_time": "2022-07-06T00:44:27.699748",
     "exception": false,
     "start_time": "2022-07-06T00:44:24.965247",
     "status": "completed"
    },
    "tags": []
   },
   "outputs": [
    {
     "name": "stdout",
     "output_type": "stream",
     "text": [
      "                RowId        Date  SecuritiesCode    Open    High     Low  \\\n",
      "1200    20170105_1301  2017-01-05            1301  2743.0  2747.0  2735.0   \n",
      "1199    20170106_1301  2017-01-06            1301  2734.0  2744.0  2720.0   \n",
      "1198    20170110_1301  2017-01-10            1301  2745.0  2754.0  2735.0   \n",
      "1197    20170111_1301  2017-01-11            1301  2748.0  2752.0  2737.0   \n",
      "1196    20170112_1301  2017-01-12            1301  2745.0  2747.0  2703.0   \n",
      "...               ...         ...             ...     ...     ...     ...   \n",
      "269752  20220616_9997  2022-06-16            9997   693.0   704.0   688.0   \n",
      "269751  20220617_9997  2022-06-17            9997   682.0   694.0   680.0   \n",
      "269750  20220620_9997  2022-06-20            9997   693.0   697.0   683.0   \n",
      "269749  20220621_9997  2022-06-21            9997   692.0   709.0   692.0   \n",
      "269748  20220622_9997  2022-06-22            9997   706.0   716.0   703.0   \n",
      "\n",
      "         Close    Volume  AdjustmentFactor  ExpectedDividend  SupervisionFlag  \\\n",
      "1200    2738.0   17900.0               1.0               0.0            False   \n",
      "1199    2740.0   19900.0               1.0               0.0            False   \n",
      "1198    2748.0   24200.0               1.0               0.0            False   \n",
      "1197    2745.0    9300.0               1.0               0.0            False   \n",
      "1196    2731.0   28700.0               1.0               0.0            False   \n",
      "...        ...       ...               ...               ...              ...   \n",
      "269752   689.0  260000.0               1.0               0.0            False   \n",
      "269751   693.0  495200.0               1.0               0.0            False   \n",
      "269750   687.0  122600.0               1.0               0.0            False   \n",
      "269749   706.0  204800.0               1.0               0.0            False   \n",
      "269748   707.0  150200.0               1.0               0.0            False   \n",
      "\n",
      "          Target  CumAdjust   Prediction  \n",
      "1200    0.000726        1.0  2740.209717  \n",
      "1199    0.002900        1.0  2736.239258  \n",
      "1198   -0.001085        1.0  2738.224609  \n",
      "1197   -0.005065        1.0  2746.166260  \n",
      "1196   -0.003271        1.0  2743.187988  \n",
      "...          ...        ...          ...  \n",
      "269752  0.005794        1.0   684.767944  \n",
      "269751 -0.008640        1.0   687.755859  \n",
      "269750  0.027607        1.0   691.740479  \n",
      "269749  0.001415        1.0   685.763855  \n",
      "269748  0.000000        1.0   704.695618  \n",
      "\n",
      "[2596412 rows x 14 columns]\n"
     ]
    }
   ],
   "source": [
    "df_data = pd.concat(list_each_stock, sort= False)\n",
    "df_data = df_data.dropna()\n",
    "print(df_data)"
   ]
  },
  {
   "cell_type": "code",
   "execution_count": 18,
   "id": "f5eef124",
   "metadata": {
    "execution": {
     "iopub.execute_input": "2022-07-06T00:44:27.755426Z",
     "iopub.status.busy": "2022-07-06T00:44:27.755008Z",
     "iopub.status.idle": "2022-07-06T00:45:03.619215Z",
     "shell.execute_reply": "2022-07-06T00:45:03.617775Z"
    },
    "papermill": {
     "duration": 35.921628,
     "end_time": "2022-07-06T00:45:03.647605",
     "exception": false,
     "start_time": "2022-07-06T00:44:27.725977",
     "status": "completed"
    },
    "tags": []
   },
   "outputs": [
    {
     "name": "stdout",
     "output_type": "stream",
     "text": [
      "            Date  SecuritiesCode    Target\n",
      "457   2017-01-05            3825  0.167436\n",
      "1000  2017-01-05            6425  0.104672\n",
      "1297  2017-01-05            7600  0.103995\n",
      "404   2017-01-05            3547  0.093704\n",
      "1695  2017-01-05            9233  0.090794\n",
      "...          ...             ...       ...\n",
      "1188  2022-06-22            6787 -0.062328\n",
      "626   2022-06-22            4401 -0.067093\n",
      "568   2022-06-22            4168 -0.067097\n",
      "1809  2022-06-22            9115 -0.082656\n",
      "569   2022-06-22            4169 -0.110876\n",
      "\n",
      "[2596412 rows x 3 columns]\n",
      "CPU times: user 31 s, sys: 4.86 s, total: 35.8 s\n",
      "Wall time: 35.9 s\n"
     ]
    }
   ],
   "source": [
    "%%time\n",
    "df_TRG= df_data.groupby('Date')['Target'].apply(list) # make a list of Target by every date\n",
    "df_SC = df_data.groupby('Date')['SecuritiesCode'].apply(list) # make a list of SecuritiesCodes by every date\n",
    "df_Date = df_data.groupby('Date')['Date'].apply(list) # make a list of dates by every date\n",
    "\n",
    "#print(df_TRG.astype)\n",
    "#print(df_SC)\n",
    "#print(df_Date)\n",
    "df_tr = pd.DataFrame()\n",
    "# construct a data frame by combining the records from above dataframe then sort by the Target values, finally arregate\n",
    "# all of dataframe as the list_rank as the data for submission file\n",
    "\n",
    "for j in range(len(list_each_stock[0]['Date'])-3):# get rid of first and last two dates without target value\n",
    "    df_date = pd.DataFrame({'Date':df_Date[j],\n",
    "                            'SecuritiesCode':df_SC[j],\n",
    "                            'Target':df_TRG[j]})\n",
    "    df_date = df_date.sort_values(by = 'Target',ascending = False)\n",
    "    df_tr=pd.concat([df_tr,df_date])# get rid of last two dates without predictions\n",
    "\n",
    "print(df_tr)"
   ]
  },
  {
   "cell_type": "code",
   "execution_count": 19,
   "id": "273047da",
   "metadata": {
    "execution": {
     "iopub.execute_input": "2022-07-06T00:45:03.702855Z",
     "iopub.status.busy": "2022-07-06T00:45:03.702130Z",
     "iopub.status.idle": "2022-07-06T00:45:04.551134Z",
     "shell.execute_reply": "2022-07-06T00:45:04.549958Z"
    },
    "papermill": {
     "duration": 0.879998,
     "end_time": "2022-07-06T00:45:04.553772",
     "exception": false,
     "start_time": "2022-07-06T00:45:03.673774",
     "status": "completed"
    },
    "tags": []
   },
   "outputs": [
    {
     "data": {
      "text/html": [
       "<div>\n",
       "<style scoped>\n",
       "    .dataframe tbody tr th:only-of-type {\n",
       "        vertical-align: middle;\n",
       "    }\n",
       "\n",
       "    .dataframe tbody tr th {\n",
       "        vertical-align: top;\n",
       "    }\n",
       "\n",
       "    .dataframe thead th {\n",
       "        text-align: right;\n",
       "    }\n",
       "</style>\n",
       "<table border=\"1\" class=\"dataframe\">\n",
       "  <thead>\n",
       "    <tr style=\"text-align: right;\">\n",
       "      <th></th>\n",
       "      <th>Date</th>\n",
       "      <th>SecuritiesCode</th>\n",
       "      <th>Target</th>\n",
       "    </tr>\n",
       "  </thead>\n",
       "  <tbody>\n",
       "    <tr>\n",
       "      <th>739</th>\n",
       "      <td>2021-12-06</td>\n",
       "      <td>4699</td>\n",
       "      <td>0.188264</td>\n",
       "    </tr>\n",
       "    <tr>\n",
       "      <th>56</th>\n",
       "      <td>2021-12-06</td>\n",
       "      <td>1873</td>\n",
       "      <td>0.186462</td>\n",
       "    </tr>\n",
       "    <tr>\n",
       "      <th>1190</th>\n",
       "      <td>2021-12-06</td>\n",
       "      <td>6779</td>\n",
       "      <td>0.155578</td>\n",
       "    </tr>\n",
       "    <tr>\n",
       "      <th>1466</th>\n",
       "      <td>2021-12-06</td>\n",
       "      <td>7809</td>\n",
       "      <td>0.133145</td>\n",
       "    </tr>\n",
       "    <tr>\n",
       "      <th>305</th>\n",
       "      <td>2021-12-06</td>\n",
       "      <td>3031</td>\n",
       "      <td>0.119131</td>\n",
       "    </tr>\n",
       "    <tr>\n",
       "      <th>...</th>\n",
       "      <td>...</td>\n",
       "      <td>...</td>\n",
       "      <td>...</td>\n",
       "    </tr>\n",
       "    <tr>\n",
       "      <th>1807</th>\n",
       "      <td>2021-12-07</td>\n",
       "      <td>9090</td>\n",
       "      <td>-0.039091</td>\n",
       "    </tr>\n",
       "    <tr>\n",
       "      <th>56</th>\n",
       "      <td>2021-12-07</td>\n",
       "      <td>1873</td>\n",
       "      <td>-0.055706</td>\n",
       "    </tr>\n",
       "    <tr>\n",
       "      <th>170</th>\n",
       "      <td>2021-12-07</td>\n",
       "      <td>2329</td>\n",
       "      <td>-0.055873</td>\n",
       "    </tr>\n",
       "    <tr>\n",
       "      <th>571</th>\n",
       "      <td>2021-12-07</td>\n",
       "      <td>4169</td>\n",
       "      <td>-0.056085</td>\n",
       "    </tr>\n",
       "    <tr>\n",
       "      <th>300</th>\n",
       "      <td>2021-12-07</td>\n",
       "      <td>2987</td>\n",
       "      <td>-0.072871</td>\n",
       "    </tr>\n",
       "  </tbody>\n",
       "</table>\n",
       "<p>4000 rows × 3 columns</p>\n",
       "</div>"
      ],
      "text/plain": [
       "            Date  SecuritiesCode    Target\n",
       "739   2021-12-06            4699  0.188264\n",
       "56    2021-12-06            1873  0.186462\n",
       "1190  2021-12-06            6779  0.155578\n",
       "1466  2021-12-06            7809  0.133145\n",
       "305   2021-12-06            3031  0.119131\n",
       "...          ...             ...       ...\n",
       "1807  2021-12-07            9090 -0.039091\n",
       "56    2021-12-07            1873 -0.055706\n",
       "170   2021-12-07            2329 -0.055873\n",
       "571   2021-12-07            4169 -0.056085\n",
       "300   2021-12-07            2987 -0.072871\n",
       "\n",
       "[4000 rows x 3 columns]"
      ]
     },
     "execution_count": 19,
     "metadata": {},
     "output_type": "execute_result"
    }
   ],
   "source": [
    "df_tr1=df_tr.loc[df_tr['Date']==('2021-12-06')]\n",
    "df_tr2=df_tr.loc[df_tr['Date']==('2021-12-07')]\n",
    "df_tr = pd.concat([df_tr1,df_tr2])\n",
    "df_tr"
   ]
  },
  {
   "cell_type": "code",
   "execution_count": 20,
   "id": "24cbf1de",
   "metadata": {
    "execution": {
     "iopub.execute_input": "2022-07-06T00:45:04.610286Z",
     "iopub.status.busy": "2022-07-06T00:45:04.609869Z",
     "iopub.status.idle": "2022-07-06T00:45:04.632481Z",
     "shell.execute_reply": "2022-07-06T00:45:04.631142Z"
    },
    "papermill": {
     "duration": 0.054859,
     "end_time": "2022-07-06T00:45:04.635603",
     "exception": false,
     "start_time": "2022-07-06T00:45:04.580744",
     "status": "completed"
    },
    "tags": []
   },
   "outputs": [
    {
     "name": "stdout",
     "output_type": "stream",
     "text": [
      "            Date  SecuritiesCode    Target  Rank\n",
      "739   2021-12-06            4699  0.188264     0\n",
      "56    2021-12-06            1873  0.186462     1\n",
      "1190  2021-12-06            6779  0.155578     2\n",
      "1466  2021-12-06            7809  0.133145     3\n",
      "305   2021-12-06            3031  0.119131     4\n",
      "...          ...             ...       ...   ...\n",
      "1807  2021-12-07            9090 -0.039091  1995\n",
      "56    2021-12-07            1873 -0.055706  1996\n",
      "170   2021-12-07            2329 -0.055873  1997\n",
      "571   2021-12-07            4169 -0.056085  1998\n",
      "300   2021-12-07            2987 -0.072871  1999\n",
      "\n",
      "[4000 rows x 4 columns]\n"
     ]
    }
   ],
   "source": [
    "# for testing purpose\n",
    "#print(df_rank.loc[df_rank.Target.isnull()])\n",
    "def add_rank(df, col_name=\"pred\"):\n",
    "    df[\"Rank\"] = df.groupby(\"Date\")[col_name].rank(ascending=False, method=\"first\") - 1 \n",
    "    df[\"Rank\"] = df[\"Rank\"].astype(\"int\")\n",
    "    return df\n",
    "df_tr_rank = add_rank(df_tr, \"Target\")\n",
    "print(df_tr_rank)"
   ]
  },
  {
   "cell_type": "code",
   "execution_count": 21,
   "id": "bc5d89f6",
   "metadata": {
    "execution": {
     "iopub.execute_input": "2022-07-06T00:45:04.692959Z",
     "iopub.status.busy": "2022-07-06T00:45:04.692092Z",
     "iopub.status.idle": "2022-07-06T00:45:04.697147Z",
     "shell.execute_reply": "2022-07-06T00:45:04.696216Z"
    },
    "papermill": {
     "duration": 0.036185,
     "end_time": "2022-07-06T00:45:04.699651",
     "exception": false,
     "start_time": "2022-07-06T00:45:04.663466",
     "status": "completed"
    },
    "tags": []
   },
   "outputs": [],
   "source": [
    "#df_tr_rank = df_tr_rank.drop(['Target'],axis=1)"
   ]
  },
  {
   "cell_type": "code",
   "execution_count": 22,
   "id": "372fe83b",
   "metadata": {
    "execution": {
     "iopub.execute_input": "2022-07-06T00:45:04.755749Z",
     "iopub.status.busy": "2022-07-06T00:45:04.754630Z",
     "iopub.status.idle": "2022-07-06T00:45:04.763048Z",
     "shell.execute_reply": "2022-07-06T00:45:04.762079Z"
    },
    "papermill": {
     "duration": 0.039047,
     "end_time": "2022-07-06T00:45:04.765607",
     "exception": false,
     "start_time": "2022-07-06T00:45:04.726560",
     "status": "completed"
    },
    "tags": []
   },
   "outputs": [],
   "source": [
    "df_tr_rank.rename(columns = {'SecuritiesCode':'Securities'}, inplace = True)\n",
    "#df_tr_rank.to_csv('/kaggle/working/submission1.csv', sep=',', encoding='utf-8',index=False)"
   ]
  },
  {
   "cell_type": "code",
   "execution_count": 23,
   "id": "e4697613",
   "metadata": {
    "execution": {
     "iopub.execute_input": "2022-07-06T00:45:04.823709Z",
     "iopub.status.busy": "2022-07-06T00:45:04.822932Z",
     "iopub.status.idle": "2022-07-06T00:45:04.838855Z",
     "shell.execute_reply": "2022-07-06T00:45:04.837554Z"
    },
    "papermill": {
     "duration": 0.049513,
     "end_time": "2022-07-06T00:45:04.841846",
     "exception": false,
     "start_time": "2022-07-06T00:45:04.792333",
     "status": "completed"
    },
    "tags": []
   },
   "outputs": [],
   "source": [
    "def calc_spread_return_per_day(df, portfolio_size, toprank_weight_ratio):\n",
    "    weights = np.linspace(start=toprank_weight_ratio, stop=1, num=portfolio_size)\n",
    "    weights_mean = weights.mean()\n",
    "    #df = df.sort_values(by='Rank')\n",
    "    purchase = (df['Target'][:portfolio_size]  * weights).sum() / weights_mean\n",
    "    short    = (df['Target'][-portfolio_size:] * weights[::-1]).sum() / weights_mean\n",
    "    return purchase - short\n",
    "\n",
    "#  not used??\n",
    "def calc_spread_return_sharpe(df, portfolio_size=200, toprank_weight_ratio=2): \n",
    "    grp = df.groupby('Date')\n",
    "    min_size = grp[\"Target\"].count().min()\n",
    "    if min_size<2*portfolio_size:\n",
    "        portfolio_size=min_size//2\n",
    "        if portfolio_size<1:\n",
    "            return 0, None\n",
    "    buf = grp.apply(calc_spread_return_per_day, portfolio_size, toprank_weight_ratio)\n",
    "    sharpe_ratio = buf.mean() / buf.std()\n",
    "    return sharpe_ratio, buf\n",
    "\n",
    "def add_rank(df, col_name=\"pred\"):\n",
    "    df[\"Rank\"] = df.groupby(\"Date\")[col_name].rank(ascending=False, method=\"first\") - 1 \n",
    "    df[\"Rank\"] = df[\"Rank\"].astype(\"int\")\n",
    "    return df"
   ]
  },
  {
   "cell_type": "code",
   "execution_count": 24,
   "id": "a0e5c678",
   "metadata": {
    "execution": {
     "iopub.execute_input": "2022-07-06T00:45:04.899134Z",
     "iopub.status.busy": "2022-07-06T00:45:04.898714Z",
     "iopub.status.idle": "2022-07-06T00:45:04.904909Z",
     "shell.execute_reply": "2022-07-06T00:45:04.903982Z"
    },
    "papermill": {
     "duration": 0.037404,
     "end_time": "2022-07-06T00:45:04.907193",
     "exception": false,
     "start_time": "2022-07-06T00:45:04.869789",
     "status": "completed"
    },
    "tags": []
   },
   "outputs": [],
   "source": [
    "score = calc_spread_return_per_day(df_tr_rank,200,2)"
   ]
  },
  {
   "cell_type": "code",
   "execution_count": 25,
   "id": "5e590d2f",
   "metadata": {
    "execution": {
     "iopub.execute_input": "2022-07-06T00:45:04.962649Z",
     "iopub.status.busy": "2022-07-06T00:45:04.962044Z",
     "iopub.status.idle": "2022-07-06T00:45:04.970018Z",
     "shell.execute_reply": "2022-07-06T00:45:04.969051Z"
    },
    "papermill": {
     "duration": 0.038697,
     "end_time": "2022-07-06T00:45:04.972476",
     "exception": false,
     "start_time": "2022-07-06T00:45:04.933779",
     "status": "completed"
    },
    "tags": []
   },
   "outputs": [],
   "source": [
    "def pred_codes(cod, tr):\n",
    "    tr = tr[tr.SecuritiesCode==cod][[\"Date\",\"Close\"]]\n",
    "    x = [0,1]\n",
    "    for _ in x:\n",
    "        tr = tr.append(\n",
    "        pd.DataFrame({'Date': pd.date_range(start=tr.Date.iloc[-1], \n",
    "                                            periods=2, freq='B', \n",
    "                                            closed='right'),\n",
    "                      'Close': np.poly1d(np.polyfit(x,tr.Close[-2:],1))(2)\n",
    "                     })\n",
    "        )\n",
    "    #print('tr in function:', tr['Date'])\n",
    "    tr = add_feat(tr)\n",
    "    tr = tr[6:]\n",
    "    target = run_reg(tr)\n",
    "    return target"
   ]
  },
  {
   "cell_type": "code",
   "execution_count": null,
   "id": "2f621b6e",
   "metadata": {
    "papermill": {
     "duration": 0.027265,
     "end_time": "2022-07-06T00:45:05.026758",
     "exception": false,
     "start_time": "2022-07-06T00:45:04.999493",
     "status": "completed"
    },
    "tags": []
   },
   "outputs": [],
   "source": []
  },
  {
   "cell_type": "code",
   "execution_count": 26,
   "id": "2a67b59f",
   "metadata": {
    "execution": {
     "iopub.execute_input": "2022-07-06T00:45:05.084331Z",
     "iopub.status.busy": "2022-07-06T00:45:05.083602Z",
     "iopub.status.idle": "2022-07-06T00:45:05.378371Z",
     "shell.execute_reply": "2022-07-06T00:45:05.376654Z"
    },
    "papermill": {
     "duration": 0.328286,
     "end_time": "2022-07-06T00:45:05.381719",
     "exception": false,
     "start_time": "2022-07-06T00:45:05.053433",
     "status": "completed"
    },
    "tags": []
   },
   "outputs": [
    {
     "name": "stdout",
     "output_type": "stream",
     "text": [
      "This version of the API is not optimized and should not be used to estimate the runtime of your code on the hidden test set.\n",
      "Score: 14.256938487538694\n",
      "Score: 13.553533374951211\n"
     ]
    }
   ],
   "source": [
    "import jpx_tokyo_market_prediction\n",
    "env = jpx_tokyo_market_prediction.make_env()   # initialize the environment\n",
    "iter_test = env.iter_test()    # an iterator which loops over the test files\n",
    "for (prices, options, financials, trades, secondary_prices, sample_prediction) in iter_test:\n",
    "    tr = df_tr_rank[df_tr_rank.Date==prices.Date.iat[0]].copy()\n",
    "    score = calc_spread_return_per_day(tr,200,2)\n",
    "    print(f\"Score: {score}\")\n",
    "    #df_tr_rank['Rank'] = np.arange(len(df_tr_rank))  # make your predictions here\n",
    "    sample_pred= tr[['Date','Securities','Rank']]\n",
    "    sample_pred.sort_values(['Date', 'Securities'], ascending=[True, True])\n",
    "    #df_tr_rank.to_csv('/kaggle/working/submission2.csv')\n",
    "    env.predict(sample_pred)   # register your predictions"
   ]
  },
  {
   "cell_type": "code",
   "execution_count": 27,
   "id": "10a8965e",
   "metadata": {
    "execution": {
     "iopub.execute_input": "2022-07-06T00:45:05.437537Z",
     "iopub.status.busy": "2022-07-06T00:45:05.437159Z",
     "iopub.status.idle": "2022-07-06T00:45:05.442383Z",
     "shell.execute_reply": "2022-07-06T00:45:05.441053Z"
    },
    "papermill": {
     "duration": 0.035924,
     "end_time": "2022-07-06T00:45:05.444718",
     "exception": false,
     "start_time": "2022-07-06T00:45:05.408794",
     "status": "completed"
    },
    "tags": []
   },
   "outputs": [],
   "source": [
    "#import shutil"
   ]
  },
  {
   "cell_type": "code",
   "execution_count": 28,
   "id": "655b21f1",
   "metadata": {
    "execution": {
     "iopub.execute_input": "2022-07-06T00:45:05.500637Z",
     "iopub.status.busy": "2022-07-06T00:45:05.499849Z",
     "iopub.status.idle": "2022-07-06T00:45:05.504843Z",
     "shell.execute_reply": "2022-07-06T00:45:05.504038Z"
    },
    "papermill": {
     "duration": 0.0359,
     "end_time": "2022-07-06T00:45:05.507299",
     "exception": false,
     "start_time": "2022-07-06T00:45:05.471399",
     "status": "completed"
    },
    "tags": []
   },
   "outputs": [],
   "source": [
    "#my_data = pd.read_csv(kaggle/working/submission.csv')"
   ]
  },
  {
   "cell_type": "code",
   "execution_count": 29,
   "id": "96795676",
   "metadata": {
    "execution": {
     "iopub.execute_input": "2022-07-06T00:45:05.564977Z",
     "iopub.status.busy": "2022-07-06T00:45:05.564185Z",
     "iopub.status.idle": "2022-07-06T00:45:05.569246Z",
     "shell.execute_reply": "2022-07-06T00:45:05.568253Z"
    },
    "papermill": {
     "duration": 0.037423,
     "end_time": "2022-07-06T00:45:05.571681",
     "exception": false,
     "start_time": "2022-07-06T00:45:05.534258",
     "status": "completed"
    },
    "tags": []
   },
   "outputs": [],
   "source": [
    "#shutil.copyfile('../kaggle/working/submission.csv', 'D:\\Google Drive 1\\Data Science\\Online_Competition\\submission.csv')"
   ]
  },
  {
   "cell_type": "code",
   "execution_count": null,
   "id": "84d2539a",
   "metadata": {
    "papermill": {
     "duration": 0.026928,
     "end_time": "2022-07-06T00:45:05.625900",
     "exception": false,
     "start_time": "2022-07-06T00:45:05.598972",
     "status": "completed"
    },
    "tags": []
   },
   "outputs": [],
   "source": []
  }
 ],
 "metadata": {
  "kernelspec": {
   "display_name": "Python 3 (ipykernel)",
   "language": "python",
   "name": "python3"
  },
  "language_info": {
   "codemirror_mode": {
    "name": "ipython",
    "version": 3
   },
   "file_extension": ".py",
   "mimetype": "text/x-python",
   "name": "python",
   "nbconvert_exporter": "python",
   "pygments_lexer": "ipython3",
   "version": "3.7.5"
  },
  "papermill": {
   "default_parameters": {},
   "duration": 551.979987,
   "end_time": "2022-07-06T00:45:09.069864",
   "environment_variables": {},
   "exception": null,
   "input_path": "__notebook__.ipynb",
   "output_path": "__notebook__.ipynb",
   "parameters": {},
   "start_time": "2022-07-06T00:35:57.089877",
   "version": "2.3.4"
  }
 },
 "nbformat": 4,
 "nbformat_minor": 5
}
